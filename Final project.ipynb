{
 "cells": [
  {
   "cell_type": "markdown",
   "id": "dd3eaafd",
   "metadata": {},
   "source": [
    "# Introduction.\n",
    "\n",
    "### This project mainly focuses on the topic of Anomaly detection were we have the readings of the fridge's sensor and depending on the change in the behaviour of the temperature  we could easily detect the anomaly degrees of temperature using Hidden Markov model. This process is done in 3 phases which are:\n",
    "\n",
    "- Constructing the Hidden Markov model.\n",
    "- Computing the detection threshold.\n",
    "- Anomaly detection."
   ]
  },
  {
   "cell_type": "code",
   "execution_count": 1,
   "id": "c56823ef",
   "metadata": {},
   "outputs": [],
   "source": [
    "import pandas as pd \n",
    "import matplotlib.pyplot as plt \n",
    "import numpy as np\n",
    "import seaborn as sns\n",
    "import datetime as dt\n",
    "import random\n",
    "import statistics as st\n",
    "import math\n",
    "import warnings\n",
    "\n",
    "warnings.filterwarnings('ignore')"
   ]
  },
  {
   "cell_type": "markdown",
   "id": "5a2e5cba",
   "metadata": {},
   "source": [
    "### Exploratory Data analysis and Preprocessing. "
   ]
  },
  {
   "cell_type": "code",
   "execution_count": 2,
   "id": "d842f0b8",
   "metadata": {},
   "outputs": [],
   "source": [
    "df = pd.read_csv(r'sensor_logs_1.csv')"
   ]
  },
  {
   "cell_type": "code",
   "execution_count": 3,
   "id": "3f20bd24",
   "metadata": {},
   "outputs": [],
   "source": [
    "# Taking a copy of the dataframe in order not to damage the original data.\n",
    "df1 = df.copy()"
   ]
  },
  {
   "cell_type": "code",
   "execution_count": 4,
   "id": "7612a8a2",
   "metadata": {},
   "outputs": [
    {
     "data": {
      "text/html": [
       "<div>\n",
       "<style scoped>\n",
       "    .dataframe tbody tr th:only-of-type {\n",
       "        vertical-align: middle;\n",
       "    }\n",
       "\n",
       "    .dataframe tbody tr th {\n",
       "        vertical-align: top;\n",
       "    }\n",
       "\n",
       "    .dataframe thead th {\n",
       "        text-align: right;\n",
       "    }\n",
       "</style>\n",
       "<table border=\"1\" class=\"dataframe\">\n",
       "  <thead>\n",
       "    <tr style=\"text-align: right;\">\n",
       "      <th></th>\n",
       "      <th>Average Temperature</th>\n",
       "      <th>Maximum Temperature</th>\n",
       "      <th>Minimum Temperature</th>\n",
       "      <th>Average Humidity</th>\n",
       "      <th>Created AT</th>\n",
       "    </tr>\n",
       "  </thead>\n",
       "  <tbody>\n",
       "    <tr>\n",
       "      <th>0</th>\n",
       "      <td>-5.74</td>\n",
       "      <td>-1.4</td>\n",
       "      <td>-8.4</td>\n",
       "      <td>92.7</td>\n",
       "      <td>2022-08-30 21:40:43</td>\n",
       "    </tr>\n",
       "    <tr>\n",
       "      <th>1</th>\n",
       "      <td>-0.41</td>\n",
       "      <td>0.0</td>\n",
       "      <td>-1.4</td>\n",
       "      <td>99.9</td>\n",
       "      <td>2022-08-30 21:37:43</td>\n",
       "    </tr>\n",
       "    <tr>\n",
       "      <th>2</th>\n",
       "      <td>-0.68</td>\n",
       "      <td>-0.3</td>\n",
       "      <td>-1.6</td>\n",
       "      <td>99.9</td>\n",
       "      <td>2022-08-30 21:34:43</td>\n",
       "    </tr>\n",
       "    <tr>\n",
       "      <th>3</th>\n",
       "      <td>-1.60</td>\n",
       "      <td>-1.6</td>\n",
       "      <td>-1.6</td>\n",
       "      <td>99.9</td>\n",
       "      <td>2022-08-30 21:31:19</td>\n",
       "    </tr>\n",
       "    <tr>\n",
       "      <th>4</th>\n",
       "      <td>-12.17</td>\n",
       "      <td>-11.6</td>\n",
       "      <td>-12.6</td>\n",
       "      <td>93.9</td>\n",
       "      <td>2022-08-30 17:03:47</td>\n",
       "    </tr>\n",
       "  </tbody>\n",
       "</table>\n",
       "</div>"
      ],
      "text/plain": [
       "   Average Temperature  Maximum Temperature  Minimum Temperature  \\\n",
       "0                -5.74                 -1.4                 -8.4   \n",
       "1                -0.41                  0.0                 -1.4   \n",
       "2                -0.68                 -0.3                 -1.6   \n",
       "3                -1.60                 -1.6                 -1.6   \n",
       "4               -12.17                -11.6                -12.6   \n",
       "\n",
       "   Average Humidity           Created AT  \n",
       "0              92.7  2022-08-30 21:40:43  \n",
       "1              99.9  2022-08-30 21:37:43  \n",
       "2              99.9  2022-08-30 21:34:43  \n",
       "3              99.9  2022-08-30 21:31:19  \n",
       "4              93.9  2022-08-30 17:03:47  "
      ]
     },
     "execution_count": 4,
     "metadata": {},
     "output_type": "execute_result"
    }
   ],
   "source": [
    "df1.head()"
   ]
  },
  {
   "cell_type": "code",
   "execution_count": 5,
   "id": "a2fa7fa1",
   "metadata": {},
   "outputs": [
    {
     "name": "stdout",
     "output_type": "stream",
     "text": [
      "<class 'pandas.core.frame.DataFrame'>\n",
      "RangeIndex: 13698 entries, 0 to 13697\n",
      "Data columns (total 5 columns):\n",
      " #   Column               Non-Null Count  Dtype  \n",
      "---  ------               --------------  -----  \n",
      " 0   Average Temperature  13698 non-null  float64\n",
      " 1   Maximum Temperature  13698 non-null  float64\n",
      " 2   Minimum Temperature  13698 non-null  float64\n",
      " 3   Average Humidity     13698 non-null  float64\n",
      " 4   Created AT           13698 non-null  object \n",
      "dtypes: float64(4), object(1)\n",
      "memory usage: 535.2+ KB\n"
     ]
    }
   ],
   "source": [
    "df1.info()\n",
    "# The data is clean with no nulls so no need for data cleansing."
   ]
  },
  {
   "cell_type": "code",
   "execution_count": 6,
   "id": "b22fbc19",
   "metadata": {},
   "outputs": [],
   "source": [
    "df1['Created AT'] = pd.to_datetime(df1['Created AT'])"
   ]
  },
  {
   "cell_type": "markdown",
   "id": "9880a49c",
   "metadata": {},
   "source": [
    "### Plotting the distribution of the temperature of the fridge's sensor."
   ]
  },
  {
   "cell_type": "code",
   "execution_count": 7,
   "id": "435ef3e1",
   "metadata": {},
   "outputs": [
    {
     "data": {
      "text/plain": [
       "<AxesSubplot:xlabel='Average Temperature', ylabel='Density'>"
      ]
     },
     "execution_count": 7,
     "metadata": {},
     "output_type": "execute_result"
    },
    {
     "data": {
      "image/png": "[encoded data removed]",
      "text/plain": [
       "<Figure size 1200x800 with 1 Axes>"
      ]
     },
     "metadata": {},
     "output_type": "display_data"
    }
   ],
   "source": [
    "plt.figure(figsize=(12,8))\n",
    "Av_temp = df1['Average Temperature']\n",
    "sns.distplot(Av_temp, color='b')"
   ]
  },
  {
   "cell_type": "markdown",
   "id": "54c88c1f",
   "metadata": {},
   "source": [
    "# Phase 1 : Constructing the hidden markov model.\n"
   ]
  },
  {
   "cell_type": "markdown",
   "id": "c26c596a",
   "metadata": {},
   "source": [
    "### 1- States identification.\n",
    "\n",
    "- In our Hidden Markov model we will we assume 4 states were each state represent a certain range of temperature.\n",
    "- Each index in the returned array of the function get_states represent a state. index 0 --> S1 etc"
   ]
  },
  {
   "cell_type": "code",
   "execution_count": 8,
   "id": "5a546d13",
   "metadata": {},
   "outputs": [],
   "source": [
    "def get_states(data,Ns):\n",
    "    States = []\n",
    "    Max_temp = math.ceil(data['Maximum Temperature'].max()) \n",
    "    Min_temp = math.floor(data['Minimum Temperature'].min())\n",
    "    step = (Max_temp-Min_temp)/Ns\n",
    "    for i in range(Ns):\n",
    "        start = Min_temp \n",
    "        end = Min_temp + step\n",
    "        Min_temp = end\n",
    "        Range = np.array([np.arange(start , end  , 0.5)])\n",
    "        States.append(Range)\n",
    "    \n",
    "    return States"
   ]
  },
  {
   "cell_type": "code",
   "execution_count": 9,
   "id": "1f4d1d80",
   "metadata": {},
   "outputs": [
    {
     "data": {
      "text/plain": [
       "[array([[-19. , -18.5, -18. , -17.5, -17. , -16.5, -16. , -15.5, -15. ,\n",
       "         -14.5, -14. , -13.5, -13. , -12.5, -12. ]]),\n",
       " array([[-11.5, -11. , -10.5, -10. ,  -9.5,  -9. ,  -8.5,  -8. ,  -7.5,\n",
       "          -7. ,  -6.5,  -6. ,  -5.5,  -5. ,  -4.5]]),\n",
       " array([[-4. , -3.5, -3. , -2.5, -2. , -1.5, -1. , -0.5,  0. ,  0.5,  1. ,\n",
       "          1.5,  2. ,  2.5,  3. ]]),\n",
       " array([[ 3.5,  4. ,  4.5,  5. ,  5.5,  6. ,  6.5,  7. ,  7.5,  8. ,  8.5,\n",
       "          9. ,  9.5, 10. , 10.5]])]"
      ]
     },
     "execution_count": 9,
     "metadata": {},
     "output_type": "execute_result"
    }
   ],
   "source": [
    "States = get_states(df1 , 4)\n",
    "States"
   ]
  },
  {
   "cell_type": "markdown",
   "id": "8a601647",
   "metadata": {},
   "source": [
    "### 2- Generating the transition matrix.\n",
    "- This function returns a 4x4 array were each index represent the total number of transitions done from a state to another.\n",
    "- Ex : index (1,2) represent the transitions that was done from State 1 to State 2."
   ]
  },
  {
   "cell_type": "code",
   "execution_count": 10,
   "id": "12f3ec69",
   "metadata": {},
   "outputs": [],
   "source": [
    "def get_Transition_Matrix(data , states):\n",
    "    Transition_matrix = np.zeros((4, 4))\n",
    "    length =len(data)-1\n",
    "\n",
    "    for i in range(length):\n",
    "        x = int(data['Average Temperature'][i])\n",
    "        y = int(data['Average Temperature'][i+1])\n",
    "        \n",
    "        for n in range(len(states)):\n",
    "            if x in states[n][0]:\n",
    "                \n",
    "                for j in range(len(states)):\n",
    "                    if y in states[j][0]:\n",
    "                        Transition_matrix[n][j] +=1\n",
    "    return Transition_matrix"
   ]
  },
  {
   "cell_type": "code",
   "execution_count": 11,
   "id": "98e32c5e",
   "metadata": {},
   "outputs": [
    {
     "data": {
      "text/plain": [
       "array([[9.199e+03, 1.590e+02, 3.000e+00, 0.000e+00],\n",
       "       [1.580e+02, 2.202e+03, 1.760e+02, 0.000e+00],\n",
       "       [4.000e+00, 1.750e+02, 1.560e+03, 1.300e+01],\n",
       "       [0.000e+00, 0.000e+00, 1.300e+01, 3.500e+01]])"
      ]
     },
     "execution_count": 11,
     "metadata": {},
     "output_type": "execute_result"
    }
   ],
   "source": [
    "Transition_matrix = get_Transition_Matrix(df1,States)\n",
    "Transition_matrix"
   ]
  },
  {
   "cell_type": "markdown",
   "id": "43a4e7f7",
   "metadata": {},
   "source": [
    "- The below function gets the sum of each row's transition which we will use to get the probability matrix."
   ]
  },
  {
   "cell_type": "code",
   "execution_count": 12,
   "id": "78d18c12",
   "metadata": {},
   "outputs": [],
   "source": [
    "def Sum_of_Trans_rows(Transition_matrix):\n",
    "    Ts = []\n",
    "    for i in range(len(Transition_matrix)):\n",
    "        total = 0\n",
    "        for j in range(len(Transition_matrix)):\n",
    "            total += Transition_matrix[i][j]\n",
    "        Ts.append(total)\n",
    "    return Ts"
   ]
  },
  {
   "cell_type": "code",
   "execution_count": 13,
   "id": "91eafc76",
   "metadata": {},
   "outputs": [
    {
     "data": {
      "text/plain": [
       "[9361.0, 2536.0, 1752.0, 48.0]"
      ]
     },
     "execution_count": 13,
     "metadata": {},
     "output_type": "execute_result"
    }
   ],
   "source": [
    "Ts = Sum_of_Trans_rows(Transition_matrix)\n",
    "Ts"
   ]
  },
  {
   "cell_type": "markdown",
   "id": "52ea84a4",
   "metadata": {},
   "source": [
    "### 2- Generating the probability matrix.\n",
    "- This function returns a 4x4 array were each index represent the pobability to transfer from a state to another.\n",
    "- Ex : index (1,2) represent the probability to transfer from State 1 to State 2."
   ]
  },
  {
   "cell_type": "code",
   "execution_count": 14,
   "id": "398c57d4",
   "metadata": {},
   "outputs": [],
   "source": [
    "def get_probability_matrix(Transition_matrix , Ts):\n",
    "    \n",
    "    probability_matrix = np.zeros((4, 4))\n",
    "    for i in range(4):\n",
    "        for j in range(4):\n",
    "            n = Ts[i]\n",
    "            if n != 0:\n",
    "                x = (Transition_matrix[i][j]) / (n)\n",
    "                probability_matrix[i][j]=x\n",
    "            else:\n",
    "                probability_matrix[i][j]=0\n",
    "    return probability_matrix "
   ]
  },
  {
   "cell_type": "code",
   "execution_count": 15,
   "id": "771ab8e8",
   "metadata": {},
   "outputs": [
    {
     "data": {
      "text/plain": [
       "array([[9.82694157e-01, 1.69853648e-02, 3.20478581e-04, 0.00000000e+00],\n",
       "       [6.23028391e-02, 8.68296530e-01, 6.94006309e-02, 0.00000000e+00],\n",
       "       [2.28310502e-03, 9.98858447e-02, 8.90410959e-01, 7.42009132e-03],\n",
       "       [0.00000000e+00, 0.00000000e+00, 2.70833333e-01, 7.29166667e-01]])"
      ]
     },
     "execution_count": 15,
     "metadata": {},
     "output_type": "execute_result"
    }
   ],
   "source": [
    "prob_mat = get_probability_matrix(Transition_matrix , Ts)\n",
    "prob_mat"
   ]
  },
  {
   "cell_type": "markdown",
   "id": "273d8490",
   "metadata": {},
   "source": [
    "# Phase 2 : Computing the detecion threshold."
   ]
  },
  {
   "cell_type": "markdown",
   "id": "fba7c612",
   "metadata": {},
   "source": [
    "### 1- Calculating the Root mean square error.\n",
    "- In this phase we divide our data frame into subintervals (Days) and for each subinterval we get the transition and the probabilty matrix then we calculate the Root mean square error between each subinterval and the whole intervals of data calculated before.\n",
    "\n",
    "- Note that p1 here is the probability matrix of all intervals and q1 is the probability matrix of 1 subinterval."
   ]
  },
  {
   "cell_type": "code",
   "execution_count": 16,
   "id": "bdcb4b71",
   "metadata": {},
   "outputs": [],
   "source": [
    "def get_RMSE(p1 , q1):\n",
    "    RMSE = np.zeros(4)\n",
    "    for i in range(len(p1)):\n",
    "        Q = []\n",
    "        P = []\n",
    "        for j in range(len(p1)):\n",
    "            Q.append(q1[i][j])\n",
    "            P.append(p1[i][j])\n",
    "        MSE = np.square(np.subtract(Q,P)).mean()   \n",
    "        RMSE[i] = (math.sqrt(MSE))\n",
    "    return RMSE"
   ]
  },
  {
   "cell_type": "markdown",
   "id": "3f358f89",
   "metadata": {},
   "source": [
    "### 2- Calculating the factors that will be used for choosing the threshold.\n",
    "- This RMSE is used to calculate a detection factor for each subinterval. At the end of this phase, the detection threshold is calculated as a function of all detection factors computed in all subintervals.\n",
    "\n",
    "- The significance of the prioritization vector 𝑷 is that it assigns higher priorities to source HMM states with higher number of transitions beginning at these states.\n",
    "\n",
    "- Subinterval detection factor 𝐹𝑗 is calculated as the sum of all rows of the prioritization vector 𝑷, where 𝑗 is the index of the current subinterval.\n"
   ]
  },
  {
   "cell_type": "code",
   "execution_count": 17,
   "id": "530ce474",
   "metadata": {},
   "outputs": [],
   "source": [
    "def get_factor(RMSE , data , subinterval):\n",
    "    states = get_states(data,4)\n",
    "    Transition_Sub = get_Transition_Matrix(subinterval,states)\n",
    "    T_val = Sum_of_Trans_rows(Transition_Sub)\n",
    "    T_total = sum(T_val)\n",
    "    priority = np.zeros(4)\n",
    "    for i in range(4):\n",
    "        priority[i] = RMSE[i] * (T_val[i]/T_total)\n",
    "    Fj = sum(priority)\n",
    "    return Fj"
   ]
  },
  {
   "cell_type": "markdown",
   "id": "63a3dab0",
   "metadata": {},
   "source": [
    "- The previous function was only demonstrated for a single subinterval. However, it should be executed for all subintervals within this phase.\n",
    "- factor vector 𝑭 would eventually contain the detection factors of all 30 Days (subintervals) at the end of this phase, as follows."
   ]
  },
  {
   "cell_type": "code",
   "execution_count": 18,
   "id": "661e1ef4",
   "metadata": {},
   "outputs": [],
   "source": [
    "def All_Factors(data):\n",
    "    df_temp = data.copy()\n",
    "    days = []\n",
    "    [days.append(df_temp['Created AT'][i].day) for i in range(len(df_temp)) if df_temp['Created AT'][i].day not in days];\n",
    "    # preparing for the original dataframe components.\n",
    "    \n",
    "    states = get_states(data,4)\n",
    "    Transition_matrix_all = get_Transition_Matrix(data,states)\n",
    "    Ts_all = Sum_of_Trans_rows(Transition_matrix)\n",
    "    Probability_matrix_all = get_probability_matrix(Transition_matrix_all,Ts_all)\n",
    "    \n",
    "    \n",
    "    Factors = []\n",
    "    \n",
    "    for i in range(len(days)):\n",
    "        subinterval =  df_temp.loc[df_temp['Created AT'].dt.day == days[i]]\n",
    "        subinterval = subinterval.reset_index()\n",
    "        \n",
    "        Transition_matrix_sub = get_Transition_Matrix(subinterval,states)\n",
    "        Ts_sub = Sum_of_Trans_rows(Transition_matrix_sub)\n",
    "        Ts_total_sub = sum(Ts_sub)\n",
    "        \n",
    "        q = get_probability_matrix(Transition_matrix_sub , Ts_sub)\n",
    "        \n",
    "        RMSE = get_RMSE(Probability_matrix_all , q)\n",
    "        \n",
    "        Fj = get_factor(RMSE ,data, subinterval)\n",
    "        \n",
    "        Factors.append(Fj)\n",
    "    return Factors"
   ]
  },
  {
   "cell_type": "code",
   "execution_count": 19,
   "id": "5299b8b7",
   "metadata": {},
   "outputs": [
    {
     "data": {
      "text/plain": [
       "[0.01563921415593814,\n",
       " 0.0051776810210963,\n",
       " 0.014012575154887423,\n",
       " 0.014918165374793627,\n",
       " 0.008471953224082306,\n",
       " 0.009379259674936772,\n",
       " 0.013774349095359104,\n",
       " 0.01315180249199604,\n",
       " 0.013562615131652637,\n",
       " 0.01078294920887004,\n",
       " 0.009225109274015137,\n",
       " 0.008688837630026756,\n",
       " 0.013152267848721555,\n",
       " 0.011281180258774219,\n",
       " 0.022098395701193624,\n",
       " 0.011191323700363185,\n",
       " 0.008656996725428339,\n",
       " 0.0041769867367852384,\n",
       " 0.005421972881744249,\n",
       " 0.011659359846524778,\n",
       " 0.0057841328059204744,\n",
       " 0.008563293890600938,\n",
       " 0.004754039173257026,\n",
       " 0.005142784865258843,\n",
       " 0.009574458311119312,\n",
       " 0.009961464524670291,\n",
       " 0.017981104229846032,\n",
       " 0.0383376339350608,\n",
       " 0.05028018407951391,\n",
       " 0.052748576848483865]"
      ]
     },
     "execution_count": 19,
     "metadata": {},
     "output_type": "execute_result"
    }
   ],
   "source": [
    "Factors = All_Factors(df1)\n",
    "Factors"
   ]
  },
  {
   "cell_type": "markdown",
   "id": "d818ff8c",
   "metadata": {},
   "source": [
    "### The above values is what we will use to decide the detection threshold."
   ]
  },
  {
   "cell_type": "code",
   "execution_count": 20,
   "id": "385b7669",
   "metadata": {},
   "outputs": [
    {
     "name": "stdout",
     "output_type": "stream",
     "text": [
      "the  first threshold  0.052748576848483865\n",
      "the second threshold  0.014251688926697365\n",
      "the third threshold  0.026086864664851432\n"
     ]
    }
   ],
   "source": [
    "F_max = max(Factors)\n",
    "F_mean = st.mean(Factors)\n",
    "F_Mean_Std = F_mean + st.pstdev(Factors)\n",
    "\n",
    "print(\"the  first threshold \" ,F_max)\n",
    "print (\"the second threshold \" , F_mean)\n",
    "print (\"the third threshold \", F_Mean_Std)"
   ]
  },
  {
   "cell_type": "markdown",
   "id": "7eccd312",
   "metadata": {},
   "source": [
    "### By trial and error the F_max was choosen as the detection threshold."
   ]
  },
  {
   "cell_type": "markdown",
   "id": "5ede0324",
   "metadata": {},
   "source": [
    "# Phase 3 : Anomaly detection."
   ]
  },
  {
   "cell_type": "markdown",
   "id": "4c620e2c",
   "metadata": {},
   "source": [
    "### This function will be used to detect the anomaly degrees of temperature it takes as a parameter the original data to which will be a reference to train the model on and the damaged data to check for anomaly degrees of temperature in different days.\n",
    "- This will be done by comparing the Factor 𝐹𝑗 of each subinterval in the damaged data with the data detection threshold computed from the original data.\n",
    "- if 𝐹𝑗 > 𝐹_Threshold,  Therefor Anomaly is detected.\n",
    "\n",
    "-  **Note:** this function takes two parameter , the first is the good data to train on it and the second is the damaged data."
   ]
  },
  {
   "cell_type": "code",
   "execution_count": 21,
   "id": "d2e70813",
   "metadata": {},
   "outputs": [],
   "source": [
    "def predict_anomaly(original_data , testing):\n",
    "    Fact = All_Factors(original_data)\n",
    "    Threshold = max(Fact)\n",
    "    days = []\n",
    "    [days.append(testing['Created AT'][i].day) for i in range(len(testing)) if testing['Created AT'][i].day not in days];\n",
    "    \n",
    "    states = get_states(original_data,4)\n",
    "    Transition_matrix_all = get_Transition_Matrix(original_data,states)\n",
    "    Ts_all = Sum_of_Trans_rows(Transition_matrix_all)\n",
    "    Probability_matrix_all = get_probability_matrix(Transition_matrix_all,Ts_all)\n",
    "    \n",
    "    for i in range(len(days)):\n",
    "        subint =  testing.loc[testing['Created AT'].dt.day == days[i]]\n",
    "        subint = subint.reset_index()\n",
    "        \n",
    "       \n",
    "        states1 = get_states(testing,4)\n",
    "        Transition_matrix_sub = get_Transition_Matrix(subint,states1)\n",
    "        Ts_sub = Sum_of_Trans_rows(Transition_matrix_sub)\n",
    "        \n",
    "        \n",
    "        q2 = get_probability_matrix(Transition_matrix_sub , Ts_sub)\n",
    "        \n",
    "        RMSE = get_RMSE(Probability_matrix_all,q2)\n",
    "        Fact_sub = get_factor(RMSE,testing,subint)\n",
    "        if Fact_sub <= Threshold:\n",
    "            print(\"No Anomaly detected\")\n",
    "        else:\n",
    "            print(\"Anomaly detected in day\" , days[i])"
   ]
  },
  {
   "cell_type": "code",
   "execution_count": 22,
   "id": "ca0c949a",
   "metadata": {},
   "outputs": [],
   "source": [
    "df_sample = df1.copy()"
   ]
  },
  {
   "cell_type": "markdown",
   "id": "b119b401",
   "metadata": {},
   "source": [
    "### Testing our model with data free of anomaly."
   ]
  },
  {
   "cell_type": "code",
   "execution_count": 23,
   "id": "9ed28e4a",
   "metadata": {},
   "outputs": [
    {
     "name": "stdout",
     "output_type": "stream",
     "text": [
      "No Anomaly detected\n",
      "No Anomaly detected\n",
      "No Anomaly detected\n",
      "No Anomaly detected\n",
      "No Anomaly detected\n",
      "No Anomaly detected\n",
      "No Anomaly detected\n",
      "No Anomaly detected\n",
      "No Anomaly detected\n",
      "No Anomaly detected\n",
      "No Anomaly detected\n",
      "No Anomaly detected\n",
      "No Anomaly detected\n",
      "No Anomaly detected\n",
      "No Anomaly detected\n",
      "No Anomaly detected\n",
      "No Anomaly detected\n",
      "No Anomaly detected\n",
      "No Anomaly detected\n",
      "No Anomaly detected\n",
      "No Anomaly detected\n",
      "No Anomaly detected\n",
      "No Anomaly detected\n",
      "No Anomaly detected\n",
      "No Anomaly detected\n",
      "No Anomaly detected\n",
      "No Anomaly detected\n",
      "No Anomaly detected\n",
      "No Anomaly detected\n",
      "No Anomaly detected\n"
     ]
    }
   ],
   "source": [
    "predict_anomaly(df1, df_sample)"
   ]
  },
  {
   "cell_type": "markdown",
   "id": "55c1b1e6",
   "metadata": {},
   "source": [
    "### Creating a function that damages the data by choosing random days and multiply its temperature readings by factor to be out  of range.\n",
    "\n",
    "- **Note that:** this function is only for testing."
   ]
  },
  {
   "cell_type": "code",
   "execution_count": 24,
   "id": "1194951a",
   "metadata": {},
   "outputs": [],
   "source": [
    "def Damage_data(Data):\n",
    "    df_temp = Data.copy()\n",
    "    \n",
    "    days = []\n",
    "    [days.append(df_temp['Created AT'][i].day) for i in range(len(df_temp)) if df_temp['Created AT'][i].day not in days];\n",
    "    \n",
    "    Num_of_days = np.arange(10,20)\n",
    "    random_days = random.sample(days,random.choice(Num_of_days))\n",
    "    random_days.sort()\n",
    "    print(\"Damages days\" , random_days)\n",
    "    for i in range(len(random_days)):\n",
    "        filtered_df = df_temp.loc[df_temp['Created AT'].dt.day == random_days[i]]\n",
    "        #hour_df = filtered_df['Created AT'].dt.hour.sample(n=1,replace =True)\n",
    "        #hour = hour_df.iloc[0]\n",
    "       \n",
    "        filtered_df['Average Temperature'] = np.where(filtered_df['Created AT'].dt.day == random_days[i], filtered_df['Average Temperature'] * 3, filtered_df['Average Temperature'])\n",
    "        df_temp.loc[filtered_df.index] = filtered_df\n",
    "\n",
    "    return df_temp"
   ]
  },
  {
   "cell_type": "code",
   "execution_count": 25,
   "id": "f78b149c",
   "metadata": {},
   "outputs": [
    {
     "name": "stdout",
     "output_type": "stream",
     "text": [
      "Damages days [3, 5, 7, 10, 11, 12, 16, 18, 20, 23]\n"
     ]
    }
   ],
   "source": [
    "Damaged = Damage_data(df1)"
   ]
  },
  {
   "cell_type": "markdown",
   "id": "73d5e1c0",
   "metadata": {},
   "source": [
    "### Testing the model on a damaged day."
   ]
  },
  {
   "cell_type": "code",
   "execution_count": 26,
   "id": "8eae8821",
   "metadata": {},
   "outputs": [],
   "source": [
    "filtered_df = Damaged.loc[Damaged['Created AT'].dt.day == 20]\n",
    "filtered_df = filtered_df.reset_index()"
   ]
  },
  {
   "cell_type": "code",
   "execution_count": 27,
   "id": "b54d98a8",
   "metadata": {},
   "outputs": [
    {
     "name": "stdout",
     "output_type": "stream",
     "text": [
      "Anomaly detected in day 20\n"
     ]
    }
   ],
   "source": [
    "predict_anomaly(df1 , filtered_df)"
   ]
  },
  {
   "cell_type": "markdown",
   "id": "346f3232",
   "metadata": {},
   "source": [
    "### Testing our model on a the whole damaged dataframe."
   ]
  },
  {
   "cell_type": "code",
   "execution_count": 28,
   "id": "64782251",
   "metadata": {},
   "outputs": [
    {
     "name": "stdout",
     "output_type": "stream",
     "text": [
      "No Anomaly detected\n",
      "No Anomaly detected\n",
      "No Anomaly detected\n",
      "No Anomaly detected\n",
      "No Anomaly detected\n",
      "No Anomaly detected\n",
      "No Anomaly detected\n",
      "Anomaly detected in day 23\n",
      "No Anomaly detected\n",
      "No Anomaly detected\n",
      "Anomaly detected in day 20\n",
      "No Anomaly detected\n",
      "Anomaly detected in day 18\n",
      "No Anomaly detected\n",
      "Anomaly detected in day 16\n",
      "No Anomaly detected\n",
      "No Anomaly detected\n",
      "No Anomaly detected\n",
      "Anomaly detected in day 12\n",
      "Anomaly detected in day 11\n",
      "Anomaly detected in day 10\n",
      "No Anomaly detected\n",
      "No Anomaly detected\n",
      "Anomaly detected in day 7\n",
      "No Anomaly detected\n",
      "Anomaly detected in day 5\n",
      "No Anomaly detected\n",
      "Anomaly detected in day 3\n",
      "No Anomaly detected\n",
      "No Anomaly detected\n"
     ]
    }
   ],
   "source": [
    "predict_anomaly(df1 , Damaged)"
   ]
  },
  {
   "cell_type": "markdown",
   "id": "089e5f12",
   "metadata": {},
   "source": [
    "### Testing our model on another fridge sensor readings."
   ]
  },
  {
   "cell_type": "code",
   "execution_count": 29,
   "id": "7ccb5fe6",
   "metadata": {},
   "outputs": [],
   "source": [
    "sensor3 = pd.read_csv(r'sensor_logs_3.csv')"
   ]
  },
  {
   "cell_type": "code",
   "execution_count": 30,
   "id": "a3efa8c8",
   "metadata": {},
   "outputs": [],
   "source": [
    "sensor3['Created AT'] = pd.to_datetime(sensor3['Created AT'])"
   ]
  },
  {
   "cell_type": "code",
   "execution_count": 31,
   "id": "83a4520e",
   "metadata": {},
   "outputs": [],
   "source": [
    "s3 = sensor3.copy()"
   ]
  },
  {
   "cell_type": "code",
   "execution_count": 32,
   "id": "095e5148",
   "metadata": {},
   "outputs": [
    {
     "name": "stdout",
     "output_type": "stream",
     "text": [
      "Damages days [2, 4, 5, 6, 7, 10, 12, 14, 15, 17, 18, 20, 22, 25, 27, 28, 30, 31]\n"
     ]
    }
   ],
   "source": [
    "Damaged_s3 = Damage_data(sensor3)"
   ]
  },
  {
   "cell_type": "code",
   "execution_count": 33,
   "id": "3de1cf3f",
   "metadata": {},
   "outputs": [
    {
     "name": "stdout",
     "output_type": "stream",
     "text": [
      "Anomaly detected in day 31\n",
      "Anomaly detected in day 30\n",
      "No Anomaly detected\n",
      "Anomaly detected in day 28\n",
      "Anomaly detected in day 27\n",
      "No Anomaly detected\n",
      "Anomaly detected in day 25\n",
      "No Anomaly detected\n",
      "No Anomaly detected\n",
      "Anomaly detected in day 22\n",
      "No Anomaly detected\n",
      "Anomaly detected in day 20\n",
      "No Anomaly detected\n",
      "Anomaly detected in day 18\n",
      "Anomaly detected in day 17\n",
      "No Anomaly detected\n",
      "Anomaly detected in day 15\n",
      "Anomaly detected in day 14\n",
      "No Anomaly detected\n",
      "Anomaly detected in day 12\n",
      "No Anomaly detected\n",
      "Anomaly detected in day 10\n",
      "No Anomaly detected\n",
      "No Anomaly detected\n",
      "Anomaly detected in day 7\n",
      "Anomaly detected in day 6\n",
      "Anomaly detected in day 5\n",
      "Anomaly detected in day 4\n",
      "No Anomaly detected\n",
      "Anomaly detected in day 2\n"
     ]
    }
   ],
   "source": [
    "predict_anomaly(sensor3 , Damaged_s3)"
   ]
  },
  {
   "cell_type": "markdown",
   "id": "d3cfca12",
   "metadata": {},
   "source": [
    "### Finally the model predicted correctly. \n"
   ]
  },
  {
   "cell_type": "markdown",
   "id": "c93c73b1",
   "metadata": {},
   "source": [
    "# The End :)"
   ]
  }
 ],
 "metadata": {
  "kernelspec": {
   "display_name": "Python 3 (ipykernel)",
   "language": "python",
   "name": "python3"
  },
  "language_info": {
   "codemirror_mode": {
    "name": "ipython",
    "version": 3
   },
   "file_extension": ".py",
   "mimetype": "text/x-python",
   "name": "python",
   "nbconvert_exporter": "python",
   "pygments_lexer": "ipython3",
   "version": "3.9.12"
  }
 },
 "nbformat": 4,
 "nbformat_minor": 5
}
